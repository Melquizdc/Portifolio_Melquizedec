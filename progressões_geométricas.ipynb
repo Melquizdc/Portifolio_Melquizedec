{
  "nbformat": 4,
  "nbformat_minor": 0,
  "metadata": {
    "colab": {
      "provenance": []
    },
    "kernelspec": {
      "name": "python3",
      "display_name": "Python 3"
    },
    "language_info": {
      "name": "python"
    }
  },
  "cells": [
    {
      "cell_type": "code",
      "source": [
        "def valida_float(pergunta):\n",
        "  while True:\n",
        "    try:\n",
        "      escolha = float(input(pergunta +\"\\n>> \"))\n",
        "    except ValueError:\n",
        "      print('só aceitamos NÚMEROS reais aqui')\n",
        "      continue\n",
        "    break\n",
        "  return escolha\n",
        "\n",
        "def valida_int(pergunta):\n",
        "  while True:\n",
        "    try:\n",
        "      escolha = int(input(pergunta +\"\\n>> \"))\n",
        "    except ValueError:\n",
        "      print('só aceitamos NÚMEROS inteiros aqui')\n",
        "      continue\n",
        "    break\n",
        "  return escolha\n",
        "\n",
        "print ('calculadora de termos de uma progressão geométricas fechada')\n",
        "p = valida_float('digite o primeiro termo:')\n",
        "r = valida_float('digite a razão:')\n",
        "n = valida_int('digite a quantidade de termos:')\n",
        "\n",
        "# criação de todos os termos\n",
        "tabela = []\n",
        "tabela.append(p)\n",
        "for i in range(1, n):\n",
        "  # se você mudar o * por um + vira uma progreção aritmética\n",
        "  p *= r\n",
        "  tabela.append(p)\n",
        "\n",
        "# apresentação deles na tela\n",
        "for i in range(0, n):\n",
        "  if i % 5 == 0:\n",
        "    print()\n",
        "  print(f\"{tabela[i]: >15.1f}\", end=\" \")\n",
        "\n",
        "# quebra de linha no fim\n",
        "print()"
      ],
      "metadata": {
        "id": "7jDaUeaPhQgc"
      },
      "execution_count": null,
      "outputs": []
    },
    {
      "cell_type": "code",
      "source": [
        "def valida_float(pergunta):\n",
        "  while True:\n",
        "    try:\n",
        "      escolha = float(input(pergunta +\"\\n>> \"))\n",
        "    except ValueError:\n",
        "      print('só aceitamos NÚMEROS reais aqui')\n",
        "      continue\n",
        "    break\n",
        "  return escolha\n",
        "\n",
        "def valida_int(pergunta):\n",
        "  while True:\n",
        "    try:\n",
        "      escolha = int(input(pergunta +\"\\n>> \"))\n",
        "    except ValueError:\n",
        "      print('só aceitamos NÚMEROS inteiros aqui')\n",
        "      continue\n",
        "    break\n",
        "  return escolha\n",
        "\n",
        "print ('calculadora da soma dos termos anteriores em uma progressão geométricas fechada')\n",
        "p = valida_float('digite o primeiro termo:')\n",
        "r = valida_float('digite a razão:')\n",
        "n = valida_int('digite a quantidade de termos:')\n",
        "s = p\n",
        "\n",
        "# criação de todos os termos\n",
        "tabela = []\n",
        "tabela.append(p)\n",
        "for i in range(1, n):\n",
        "  # se você mudar o * por um + faz a soma em uma progreção aritmética\n",
        "  p *= r\n",
        "  s += p\n",
        "  tabela.append(s)\n",
        "\n",
        "# apresentação deles na tela\n",
        "for i in range(0, n):\n",
        "  if i % 5 == 0:\n",
        "    print()\n",
        "  print(f\"{tabela[i]: >15.1f}\", end=\" \")\n",
        "\n",
        "# quebra de linha no fim\n",
        "print()"
      ],
      "metadata": {
        "id": "5HLbAsAeAR1X"
      },
      "execution_count": null,
      "outputs": []
    }
  ]
}