{
  "nbformat": 4,
  "nbformat_minor": 0,
  "metadata": {
    "colab": {
      "provenance": []
    },
    "kernelspec": {
      "name": "python3",
      "display_name": "Python 3"
    },
    "language_info": {
      "name": "python"
    }
  },
  "cells": [
    {
      "cell_type": "code",
      "execution_count": null,
      "metadata": {
        "id": "FkMhT_J0bRZb"
      },
      "outputs": [],
      "source": [
        "def valida_int(pergunta):\n",
        "  while True:\n",
        "    try:\n",
        "      escolha = int(input(pergunta +\"\\n>> \"))\n",
        "    except ValueError:\n",
        "      print('só aceitamos NÚMEROS inteiros aqui')\n",
        "      continue\n",
        "    break\n",
        "  return escolha"
      ]
    },
    {
      "cell_type": "code",
      "source": [
        "def valida_float(pergunta):\n",
        "  while True:\n",
        "    try:\n",
        "      escolha = float(input(pergunta +\"\\n>> \"))\n",
        "    except ValueError:\n",
        "      print('só aceitamos NÚMEROS reais aqui')\n",
        "      continue\n",
        "    break\n",
        "  return escolha"
      ],
      "metadata": {
        "id": "jS0dkdfn5SpN"
      },
      "execution_count": null,
      "outputs": []
    },
    {
      "cell_type": "code",
      "source": [
        "def valida_s_n(pergunta):\n",
        "  while True:\n",
        "    escolha = input(pergunta +\" (S/N) >> \")\n",
        "    if escolha == \"s\" or escolha == \"n\" or escolha == \"S\" or escolha == \"N\":\n",
        "      break\n",
        "    else:\n",
        "      print('\"S\" ou \"N\"')\n",
        "  return escolha"
      ],
      "metadata": {
        "id": "2GlnTekQ5Vs5"
      },
      "execution_count": null,
      "outputs": []
    }
  ]
}