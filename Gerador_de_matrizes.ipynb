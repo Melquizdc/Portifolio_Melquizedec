{
  "nbformat": 4,
  "nbformat_minor": 0,
  "metadata": {
    "colab": {
      "provenance": []
    },
    "kernelspec": {
      "name": "python3",
      "display_name": "Python 3"
    },
    "language_info": {
      "name": "python"
    }
  },
  "cells": [
    {
      "cell_type": "code",
      "execution_count": null,
      "metadata": {
        "id": "pHuvIlJGBDA8"
      },
      "outputs": [],
      "source": [
        "# gerador de matrizes\n",
        "import numpy as np\n",
        "\n",
        "def valida_int(pergunta):\n",
        "  while True:\n",
        "    try:\n",
        "      escolha = int(input(pergunta +\"\\n>> \"))\n",
        "    except ValueError:\n",
        "      print('só aceitamos NÚMEROS inteiros aqui')\n",
        "      continue\n",
        "    break\n",
        "  return escolha\n",
        "\n",
        "def valida_float(pergunta):\n",
        "  while True:\n",
        "    try:\n",
        "      escolha = float(input(pergunta +\"\\n>> \"))\n",
        "    except ValueError:\n",
        "      print('só aceitamos NÚMEROS reais aqui')\n",
        "      continue\n",
        "    break\n",
        "  return escolha\n",
        "\n",
        "print('gerador de matrizes')\n",
        "# Limpar informações anteriores\n",
        "x = np.array([[]])\n",
        "\n",
        "n = valida_int('digite o número de linhas da matriz\\n>> ')\n",
        "m = valida_int('digite o número de colunas da matriz\\n>> ')\n",
        "\n",
        "for i in range(1,n+1,1):\n",
        "  for h in range(1,m+1,1):\n",
        "    pergunta = valida_float(f'digite o valor da linha {i} e coluna {h}>> ')\n",
        "    x = np.append(x,pergunta)\n",
        "\n",
        "x = x.reshape(n,m)\n",
        "print(x)"
      ]
    }
  ]
}