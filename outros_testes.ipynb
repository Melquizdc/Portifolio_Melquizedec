{
  "nbformat": 4,
  "nbformat_minor": 0,
  "metadata": {
    "colab": {
      "provenance": []
    },
    "kernelspec": {
      "name": "python3",
      "display_name": "Python 3"
    },
    "language_info": {
      "name": "python"
    }
  },
  "cells": [
    {
      "cell_type": "code",
      "source": [
        "# conversor de bases numéricas\n",
        "def valida_int(pergunta):\n",
        "  while True:\n",
        "    try:\n",
        "      escolha = int(input(pergunta +\"\\n>> \"))\n",
        "    except ValueError:\n",
        "      print('só aceitamos NÚMEROS inteiros aqui')\n",
        "      continue\n",
        "    break\n",
        "  return escolha\n",
        "\n",
        "print('conversor de bases numéricas')\n",
        "x = valida_int('digite o número desejado para converter')\n",
        "\n",
        "print(f'{x} em binário é igual à {bin(x)[2:]}\\nem octanario é {oct(x)[2:]}\\nem hexadecimal é {hex(x)[2:]}')"
      ],
      "metadata": {
        "id": "eTuNMPn_JLJO",
        "colab": {
          "base_uri": "https://localhost:8080/"
        },
        "outputId": "8c9a7bff-9c19-47bf-b5de-6ec3f07e4813"
      },
      "execution_count": null,
      "outputs": [
        {
          "output_type": "stream",
          "name": "stdout",
          "text": [
            "conversor de bases numéricas\n",
            "digite o número desejado para converter\n",
            ">> 70\n",
            "70 em binário é igual à 1000110\n",
            "em octanario é 106\n",
            "em hexadecimal é 46\n"
          ]
        }
      ]
    },
    {
      "cell_type": "code",
      "source": [
        "# gerador de notação científica\n",
        "def valida_float(pergunta):\n",
        "  while True:\n",
        "    try:\n",
        "      escolha = float(input(pergunta +\"\\n>> \"))\n",
        "    except ValueError:\n",
        "      print('só aceitamos NÚMEROS reais aqui')\n",
        "      continue\n",
        "    break\n",
        "  return escolha\n",
        "\n",
        "x = valida_float('digite o número desejado para transformar em notação científica')\n",
        "\n",
        "print('seu número e notação científica é ', end='')\n",
        "# você pode modificar o valor numérico entre o ponto e o \"e\"\n",
        "# para aumentar ou diminuir a quantidade de números que aparecem\n",
        "print('%.6e'%x)"
      ],
      "metadata": {
        "id": "_Pld150QaCyV"
      },
      "execution_count": null,
      "outputs": []
    },
    {
      "cell_type": "code",
      "source": [
        "# matemática modular\n",
        "def valida_float(pergunta):\n",
        "  while True:\n",
        "    try:\n",
        "      escolha = float(input(pergunta +\"\\n>> \"))\n",
        "    except ValueError:\n",
        "      print('')\n",
        "      continue\n",
        "    break\n",
        "  return escolha\n",
        "\n",
        "def valida_sinal(pergunta):\n",
        "  while True:\n",
        "    escolha = input(pergunta +\" (M/D/A/S) >> \")\n",
        "    if escolha == \"m\" or escolha == \"d\" or escolha == \"a\" or escolha == \"s\" or escolha == \"M\" or escolha == \"D\" or escolha == \"A\" or escolha == \"S\":\n",
        "      break\n",
        "    else:\n",
        "      print('')\n",
        "      continue\n",
        "  return escolha\n",
        "\n",
        "\n",
        "print('calculadora usando aritimética modular')\n",
        "\n",
        "m = valida_float('digite o valor do módulo')\n",
        "a = valida_float('digite o valor inicial')\n",
        "s = valida_sinal('digite a operação')\n",
        "b = valida_float('digite o valor que modifica o primeiro')\n",
        "\n",
        "if s == \"m\" or s == \"M\":\n",
        "  r = a * b % m\n",
        "elif s == \"d\" or s == \"D\":\n",
        "  if b == 0:\n",
        "    print('não é possível dividir por zero')\n",
        "  else:\n",
        "    r = a / b % m\n",
        "elif s == \"a\" or s == \"A\":\n",
        "  r = a + b % m\n",
        "else:\n",
        "  r = a - b % m\n",
        "\n",
        "print(f'o resultado é {r}')"
      ],
      "metadata": {
        "id": "XKCKrPDIjCvt"
      },
      "execution_count": null,
      "outputs": []
    }
  ]
}